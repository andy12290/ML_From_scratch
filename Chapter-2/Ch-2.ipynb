{
 "cells": [
  {
   "cell_type": "code",
   "execution_count": 1,
   "metadata": {
    "collapsed": false
   },
   "outputs": [],
   "source": [
    "# Normalization of data\n",
    "from math import sqrt\n",
    "from csv import reader"
   ]
  },
  {
   "cell_type": "code",
   "execution_count": 2,
   "metadata": {
    "collapsed": false
   },
   "outputs": [],
   "source": [
    "def min_max_dataset(dataset):\n",
    "    minmax= list()\n",
    "    for i in range(len(dataset)):\n",
    "        print(\"Row_values\", i)\n",
    "        col_values = [row[i] for row in dataset]\n",
    "        print(\"col_values\", col_values)\n",
    "        value_min = min(col_values)\n",
    "        value_max = max(col_values)\n",
    "        minmax.append([value_min, value_max,])\n",
    "    return minmax\n",
    "        "
   ]
  },
  {
   "cell_type": "code",
   "execution_count": 3,
   "metadata": {
    "collapsed": false
   },
   "outputs": [
    {
     "name": "stdout",
     "output_type": "stream",
     "text": [
      "Row_values 0\n",
      "col_values [50, 20]\n",
      "Row_values 1\n",
      "col_values [30, 90]\n"
     ]
    },
    {
     "data": {
      "text/plain": [
       "[[20, 50], [30, 90]]"
      ]
     },
     "execution_count": 3,
     "metadata": {},
     "output_type": "execute_result"
    }
   ],
   "source": [
    "dataset = [[50,30],\n",
    "           [20,90]]\n",
    "min_max_dataset(dataset)"
   ]
  },
  {
   "cell_type": "code",
   "execution_count": 4,
   "metadata": {
    "collapsed": false
   },
   "outputs": [],
   "source": [
    "# Normaliaze\n",
    "def normalize_dataset(dataset, minmax):\n",
    "    for row in dataset:\n",
    "        for i in range(len(row)):\n",
    "            row[i] = (row[i] - minmax[i][0]) / (minmax[i][1]- minmax[i][0])"
   ]
  },
  {
   "cell_type": "code",
   "execution_count": 5,
   "metadata": {
    "collapsed": false
   },
   "outputs": [
    {
     "name": "stdout",
     "output_type": "stream",
     "text": [
      "Row_values 0\n",
      "col_values [50, 20]\n",
      "Row_values 1\n",
      "col_values [30, 90]\n"
     ]
    },
    {
     "data": {
      "text/plain": [
       "[[1.0, 0.0], [0.0, 1.0]]"
      ]
     },
     "execution_count": 5,
     "metadata": {},
     "output_type": "execute_result"
    }
   ],
   "source": [
    "minmax= min_max_dataset(dataset)\n",
    "normalize_dataset(dataset,minmax)\n",
    "dataset"
   ]
  },
  {
   "cell_type": "code",
   "execution_count": 6,
   "metadata": {
    "collapsed": false
   },
   "outputs": [
    {
     "name": "stdout",
     "output_type": "stream",
     "text": [
      "[1.0, 0.0]\n",
      "0\n",
      "1\n",
      "[0.0, 1.0]\n",
      "0\n",
      "1\n"
     ]
    }
   ],
   "source": [
    "for row in dataset:\n",
    "    print(row)\n",
    "    for i in range(len(row)):\n",
    "        print(i)\n",
    "    "
   ]
  },
  {
   "cell_type": "code",
   "execution_count": 7,
   "metadata": {
    "collapsed": false
   },
   "outputs": [
    {
     "name": "stdout",
     "output_type": "stream",
     "text": [
      "[6.0, 148.0, 72.0, 35.0, 0.0, 33.6, 0.627, 50.0, 1.0]\n",
      "[0.35294117647058826, 0.7437185929648241, 0.5901639344262295, 0.35353535353535354, 0.0, 0.5007451564828614, 0.23441502988898377, 0.48333333333333334, 1.0]\n"
     ]
    }
   ],
   "source": [
    "# Lets build everything in one column\n",
    "from csv import reader\n",
    "\n",
    "# load the file\n",
    "def load_csv_file(filename):\n",
    "    dataset = list()\n",
    "    file = open(filename, \"r\")\n",
    "    csv_reader = reader(file)\n",
    "    for row in csv_reader:\n",
    "        if not row:\n",
    "            continue\n",
    "        dataset.append(row)\n",
    "    return dataset  \n",
    "\n",
    "# convert to  the float\n",
    "def str_column_to_float(dataset, column):\n",
    "    for row in dataset:\n",
    "        row[column] = float(row[column].strip())\n",
    "        \n",
    "        \n",
    "# calculate min and max \n",
    "def dataset_minmax(dataset):\n",
    "    minmax = list()\n",
    "    for i in range(len(dataset[0])):\n",
    "        col_values = [row[i]for row in dataset]\n",
    "        values_min = min(col_values)\n",
    "        values_max = max(col_values)\n",
    "        minmax.append([values_min, values_max])\n",
    "    return minmax \n",
    "\n",
    "# Rescale dataset columns to the range 0-1\n",
    "def normalize_dataset(dataset, minmax):\n",
    "    for row in dataset:\n",
    "        for i in range(len(row)):\n",
    "            row[i] = (row[i] - minmax[i][0]) / (minmax[i][1] - minmax[i][0])\n",
    "\n",
    "# Load pima-indians-diabetes dataset\n",
    "filename = 'pima-indians-diabetes.csv'\n",
    "dataset = load_csv_file(filename)\n",
    "# convert string columns to float\n",
    "for i in range(len(dataset[0])):\n",
    "    str_column_to_float(dataset, i)\n",
    "print(dataset[0])\n",
    "\n",
    "# Calculate min and max for each column\n",
    "minmax = dataset_minmax(dataset)\n",
    "\n",
    "# Normalize columns\n",
    "normalize_dataset(dataset, minmax)\n",
    "print(dataset[0])"
   ]
  },
  {
   "cell_type": "markdown",
   "metadata": {},
   "source": [
    "# Standardize data"
   ]
  },
  {
   "cell_type": "code",
   "execution_count": 8,
   "metadata": {
    "collapsed": false
   },
   "outputs": [],
   "source": [
    "def column_means(dataset):\n",
    "    means = [ 0 for i in range(len(dataset[0]))]\n",
    "    for i in range(len(dataset[0])):\n",
    "        col_values = [row[i] for row in dataset]\n",
    "        means[i] = sum(col_values)/float(len(dataset))\n",
    "    return means    "
   ]
  },
  {
   "cell_type": "code",
   "execution_count": 9,
   "metadata": {
    "collapsed": false
   },
   "outputs": [
    {
     "data": {
      "text/plain": [
       "[['1', '2', '43', '5', '7'],\n",
       " ['3', '4', '7', '8', '9'],\n",
       " ['1', '3', '4', '5', '6']]"
      ]
     },
     "execution_count": 9,
     "metadata": {},
     "output_type": "execute_result"
    }
   ],
   "source": [
    "# testing\n",
    "filename = \"test.csv\"\n",
    "test = load_csv_file(filename)\n",
    "test"
   ]
  },
  {
   "cell_type": "code",
   "execution_count": 10,
   "metadata": {
    "collapsed": false
   },
   "outputs": [],
   "source": [
    "for i in range(len(test[0])):\n",
    "    str_column_to_float(test,i)    "
   ]
  },
  {
   "cell_type": "code",
   "execution_count": 11,
   "metadata": {
    "collapsed": false
   },
   "outputs": [
    {
     "name": "stdout",
     "output_type": "stream",
     "text": [
      "[1.0, 3.0, 1.0]\n",
      "[2.0, 4.0, 3.0]\n",
      "[43.0, 7.0, 4.0]\n",
      "[5.0, 8.0, 5.0]\n",
      "[7.0, 9.0, 6.0]\n"
     ]
    }
   ],
   "source": [
    "# testing\n",
    "means = [0 for i in range(len(test[0]))]\n",
    "for i in range(len(test[0])):\n",
    "    col = [row[i] for row in test]\n",
    "    print(col)"
   ]
  },
  {
   "cell_type": "code",
   "execution_count": 12,
   "metadata": {
    "collapsed": false
   },
   "outputs": [],
   "source": [
    "# standard deviation\n",
    "def column_stdevs(dataset, means):\n",
    "    stdev = [ 0 for i in range(len(dataset[0]))]\n",
    "    for i in range(len(dataset[0])):\n",
    "        variance = [pow(row[i]-means[i], 2) for row in dataset]\n",
    "        stdev[i] = sum(variance)\n",
    "    stdev = [sqrt(x/(float(len(dataset)-1))) for x in stdev]\n",
    "    return stdev               "
   ]
  },
  {
   "cell_type": "code",
   "execution_count": 13,
   "metadata": {
    "collapsed": false
   },
   "outputs": [
    {
     "data": {
      "text/plain": [
       "[2.345207879911715,\n",
       " 3.8078865529319543,\n",
       " 30.93541659651604,\n",
       " 7.54983443527075,\n",
       " 9.1104335791443]"
      ]
     },
     "execution_count": 13,
     "metadata": {},
     "output_type": "execute_result"
    }
   ],
   "source": [
    "column_stdevs(test, means)"
   ]
  },
  {
   "cell_type": "code",
   "execution_count": 14,
   "metadata": {
    "collapsed": false
   },
   "outputs": [],
   "source": [
    "def column_means(dataset):\n",
    "    means = [0 for i in range(len(dataset[0]))]\n",
    "    for i in range(len(dataset[0])):\n",
    "            col_values = [row[i] for row in dataset]\n",
    "            means[i] = sum(col_values) / float(len(dataset))\n",
    "    return means"
   ]
  },
  {
   "cell_type": "code",
   "execution_count": 16,
   "metadata": {
    "collapsed": false
   },
   "outputs": [
    {
     "data": {
      "text/plain": [
       "[2.345207879911715,\n",
       " 3.8078865529319543,\n",
       " 30.93541659651604,\n",
       " 7.54983443527075,\n",
       " 9.1104335791443]"
      ]
     },
     "execution_count": 16,
     "metadata": {},
     "output_type": "execute_result"
    }
   ],
   "source": [
    "column_stdevs(test,means)"
   ]
  },
  {
   "cell_type": "code",
   "execution_count": 17,
   "metadata": {
    "collapsed": true
   },
   "outputs": [],
   "source": [
    "def standarrdize_data(dataset, means, stdev):\n",
    "    for row in dataset:\n",
    "        for i in range(len(row)):\n",
    "            row[i] = (row[i] - means[i]) / stdev[i]"
   ]
  },
  {
   "cell_type": "code",
   "execution_count": 29,
   "metadata": {
    "collapsed": false
   },
   "outputs": [
    {
     "name": "stdout",
     "output_type": "stream",
     "text": [
      "value_of_i 0\n",
      "1.0\n",
      "value_of_i 0\n",
      "3.0\n",
      "value_of_i 0\n",
      "1.0\n",
      "value_of_i 1\n",
      "2.0\n",
      "value_of_i 1\n",
      "4.0\n",
      "value_of_i 1\n",
      "3.0\n",
      "value_of_i 2\n",
      "43.0\n",
      "value_of_i 2\n",
      "7.0\n",
      "value_of_i 2\n",
      "4.0\n"
     ]
    }
   ],
   "source": [
    "# lets test it\n",
    "for i in range(len(test)):\n",
    "    for row in test:\n",
    "        print(\"value_of_i\",i)\n",
    "        col = row[i]\n",
    "        print(col)"
   ]
  },
  {
   "cell_type": "code",
   "execution_count": 25,
   "metadata": {
    "collapsed": false
   },
   "outputs": [
    {
     "data": {
      "text/plain": [
       "[[1.0, 2.0, 43.0, 5.0, 7.0],\n",
       " [3.0, 4.0, 7.0, 8.0, 9.0],\n",
       " [1.0, 3.0, 4.0, 5.0, 6.0]]"
      ]
     },
     "execution_count": 25,
     "metadata": {},
     "output_type": "execute_result"
    }
   ],
   "source": [
    "test"
   ]
  },
  {
   "cell_type": "code",
   "execution_count": null,
   "metadata": {
    "collapsed": true
   },
   "outputs": [],
   "source": [
    "# so we have calculated the standard deviation and normalization"
   ]
  }
 ],
 "metadata": {
  "anaconda-cloud": {},
  "kernelspec": {
   "display_name": "Python [Root]",
   "language": "python",
   "name": "Python [Root]"
  },
  "language_info": {
   "codemirror_mode": {
    "name": "ipython",
    "version": 3
   },
   "file_extension": ".py",
   "mimetype": "text/x-python",
   "name": "python",
   "nbconvert_exporter": "python",
   "pygments_lexer": "ipython3",
   "version": "3.5.3"
  }
 },
 "nbformat": 4,
 "nbformat_minor": 0
}
